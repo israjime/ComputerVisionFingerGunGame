{
 "cells": [
  {
   "cell_type": "code",
   "execution_count": 1,
   "metadata": {},
   "outputs": [
    {
     "name": "stderr",
     "output_type": "stream",
     "text": [
      "2024-03-30 12:52:15.063 Python[2984:92354] WARNING: AVCaptureDeviceTypeExternal is deprecated for Continuity Cameras. Please use AVCaptureDeviceTypeContinuityCamera and add NSCameraUseContinuityCameraDeviceType to your Info.plist.\n"
     ]
    },
    {
     "ename": "TypeError",
     "evalue": "<lambda>() takes 0 positional arguments but 1 was given",
     "output_type": "error",
     "traceback": [
      "\u001b[0;31m---------------------------------------------------------------------------\u001b[0m",
      "\u001b[0;31mTypeError\u001b[0m                                 Traceback (most recent call last)",
      "\u001b[0;31mTypeError\u001b[0m: <lambda>() takes 0 positional arguments but 1 was given"
     ]
    },
    {
     "ename": "TypeError",
     "evalue": "<lambda>() takes 0 positional arguments but 1 was given",
     "output_type": "error",
     "traceback": [
      "\u001b[0;31m---------------------------------------------------------------------------\u001b[0m",
      "\u001b[0;31mTypeError\u001b[0m                                 Traceback (most recent call last)",
      "\u001b[0;31mTypeError\u001b[0m: <lambda>() takes 0 positional arguments but 1 was given"
     ]
    },
    {
     "ename": "TypeError",
     "evalue": "<lambda>() takes 0 positional arguments but 1 was given",
     "output_type": "error",
     "traceback": [
      "\u001b[0;31m---------------------------------------------------------------------------\u001b[0m",
      "\u001b[0;31mTypeError\u001b[0m                                 Traceback (most recent call last)",
      "\u001b[0;31mTypeError\u001b[0m: <lambda>() takes 0 positional arguments but 1 was given"
     ]
    },
    {
     "ename": "TypeError",
     "evalue": "<lambda>() takes 0 positional arguments but 1 was given",
     "output_type": "error",
     "traceback": [
      "\u001b[0;31m---------------------------------------------------------------------------\u001b[0m",
      "\u001b[0;31mTypeError\u001b[0m                                 Traceback (most recent call last)",
      "\u001b[0;31mTypeError\u001b[0m: <lambda>() takes 0 positional arguments but 1 was given"
     ]
    },
    {
     "ename": "TypeError",
     "evalue": "<lambda>() takes 0 positional arguments but 1 was given",
     "output_type": "error",
     "traceback": [
      "\u001b[0;31m---------------------------------------------------------------------------\u001b[0m",
      "\u001b[0;31mTypeError\u001b[0m                                 Traceback (most recent call last)",
      "\u001b[0;31mTypeError\u001b[0m: <lambda>() takes 0 positional arguments but 1 was given"
     ]
    },
    {
     "ename": "TypeError",
     "evalue": "<lambda>() takes 0 positional arguments but 1 was given",
     "output_type": "error",
     "traceback": [
      "\u001b[0;31m---------------------------------------------------------------------------\u001b[0m",
      "\u001b[0;31mTypeError\u001b[0m                                 Traceback (most recent call last)",
      "\u001b[0;31mTypeError\u001b[0m: <lambda>() takes 0 positional arguments but 1 was given"
     ]
    },
    {
     "name": "stderr",
     "output_type": "stream",
     "text": [
      "2024-03-30 12:52:16.563 Python[2984:92354] WARNING: Secure coding is not enabled for restorable state! Enable secure coding by implementing NSApplicationDelegate.applicationSupportsSecureRestorableState: and returning YES.\n"
     ]
    }
   ],
   "source": [
    "import sys\n",
    "import numpy as np\n",
    "import cv2\n",
    "cap = cv2.VideoCapture(1)\n",
    "\n",
    "# 55, 134, 142, 221, 63, 118\n",
    "# skin colour numbers\n",
    "# y_min = 54\n",
    "# y_max = 163\n",
    "# cr_min = 150 # 133\n",
    "# cr_max = 173\n",
    "# cb_min = 77\n",
    "# cb_max = 127\n",
    "y_min = 64\n",
    "y_max = 193\n",
    "cr_min = 139 # 133\n",
    "cr_max = 173\n",
    "cb_min = 77\n",
    "cb_max = 127\n",
    "\n",
    "title = 'skin-color-testing'\n",
    "\n",
    "cv2.namedWindow(title)\n",
    "cv2.createTrackbar('y-min-slider', title, y_min, 255, lambda x: x)\n",
    "cv2.createTrackbar('y-max-slider', title, y_max, 255, lambda x: x)\n",
    "cv2.createTrackbar('cr-min-slider', title, cr_min, 255, lambda x: x)\n",
    "cv2.createTrackbar('cr-max-slider', title, cr_max, 255, lambda x: x)\n",
    "cv2.createTrackbar('cb-min-slider', title, cb_min, 255, lambda x: x)\n",
    "cv2.createTrackbar('cb-max-slider', title, cb_max, 255, lambda x: x)\n",
    "\n",
    "while 1:\n",
    "    _ret, img = cap.read()\n",
    "    img = cv2.resize(img, [img.shape[1]//2, img.shape[0]//2], interpolation=cv2.INTER_AREA)\n",
    "\n",
    "    img_ycrcb = cv2.cvtColor(img, cv2.COLOR_BGR2YCR_CB)\n",
    "\n",
    "    skin_ycrcb_mint = np.array([cv2.getTrackbarPos('y-min-slider', title), cv2.getTrackbarPos('cr-min-slider', title), cv2.getTrackbarPos('cb-min-slider', title)], np.uint8)\n",
    "    skin_ycrcb_maxt = np.array([cv2.getTrackbarPos('y-max-slider', title), cv2.getTrackbarPos('cr-max-slider', title), cv2.getTrackbarPos('cb-max-slider', title)], np.uint8)\n",
    "    skin_ycrcb = cv2.inRange(img_ycrcb, skin_ycrcb_mint, skin_ycrcb_maxt)\n",
    "\n",
    "    contours, _hierarchy = cv2.findContours(skin_ycrcb, cv2.RETR_EXTERNAL, cv2.CHAIN_APPROX_SIMPLE)\n",
    "    for i, c in enumerate(contours):\n",
    "        area = cv2.contourArea(c)\n",
    "        if area > 100:\n",
    "            cv2.drawContours(img, contours, i, (255, 0, 0), 3)\n",
    "\n",
    "    skin_ycrcb = cv2.cvtColor(skin_ycrcb, cv2.COLOR_GRAY2RGB)\n",
    "    full_img = np.concatenate((skin_ycrcb, img), axis=0) # Final image\n",
    "\n",
    "    cv2.imshow(title, full_img)\n",
    "    k = cv2.waitKey(10)\n",
    "    if k == 27:\n",
    "        break\n",
    "    \n",
    "cv2.destroyAllWindows()\n",
    "cv2.waitKey(1)\n",
    "cap.release()"
   ]
  }
 ],
 "metadata": {
  "kernelspec": {
   "display_name": "Python 3",
   "language": "python",
   "name": "python3"
  },
  "language_info": {
   "codemirror_mode": {
    "name": "ipython",
    "version": 3
   },
   "file_extension": ".py",
   "mimetype": "text/x-python",
   "name": "python",
   "nbconvert_exporter": "python",
   "pygments_lexer": "ipython3",
   "version": "3.12.1"
  }
 },
 "nbformat": 4,
 "nbformat_minor": 2
}
